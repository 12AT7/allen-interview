{
 "cells": [
  {
   "cell_type": "code",
   "execution_count": 1,
   "metadata": {
    "collapsed": false,
    "deletable": true,
    "editable": true
   },
   "outputs": [],
   "source": [
    "import numpy as np\n",
    "from numpy.fft import fft2, ifft2, fftshift\n",
    "import scipy.signal\n",
    "import matplotlib.pyplot as plt\n",
    "from skimage import data, util, transform\n",
    "from skimage.transform import AffineTransform\n",
    "from matplotlib import animation, rc\n",
    "rc('animation', html='html5')\n",
    "rc('image', cmap='gray', interpolation='nearest')\n",
    "np.random.seed(10)\n"
   ]
  },
  {
   "cell_type": "code",
   "execution_count": 2,
   "metadata": {
    "collapsed": false
   },
   "outputs": [],
   "source": [
    "size = 128\n",
    "N = 2*size+1\n",
    "pad = np.zeros((N, N), np.float64)\n",
    "q = int((N-size)/2)\n",
    "center = np.s_[q:q+size, q:q+size]\n",
    "mask = np.ones((N, N), dtype=bool)\n",
    "mask[center] = False\n",
    "\n",
    "def SyntheticBlobs():\n",
    "    mask = data.binary_blobs(length=pad.shape[0], blob_size_fraction=0.07, volume_fraction=.25, seed=1)\n",
    "    image = np.random.normal(loc = .7, scale=.003, size=mask.shape)\n",
    "    image[np.invert(mask)] = .3\n",
    "    return image"
   ]
  },
  {
   "cell_type": "code",
   "execution_count": 3,
   "metadata": {
    "collapsed": true
   },
   "outputs": [],
   "source": [
    "def HanningWindow():\n",
    "    hann = scipy.signal.hanning(size)\n",
    "    window = np.zeros_like(pad)\n",
    "    window[center] = np.sqrt(np.outer(hann, hann))\n",
    "    return window"
   ]
  },
  {
   "cell_type": "code",
   "execution_count": 4,
   "metadata": {
    "collapsed": true
   },
   "outputs": [],
   "source": [
    "class WhiteNoise:\n",
    "    def __init__(self, variance = 0.0):\n",
    "        self.variance = variance \n",
    "        \n",
    "    def __call__(self, image):\n",
    "        return util.random_noise(image, var=self.variance)"
   ]
  },
  {
   "cell_type": "code",
   "execution_count": 5,
   "metadata": {
    "collapsed": true
   },
   "outputs": [],
   "source": [
    "class MotionModel:\n",
    "    def __init__(self):\n",
    "        self.track = [AffineTransform()]\n",
    "        \n",
    "    def __iter__(self):\n",
    "        return self\n",
    "    \n",
    "    def __next__(self):\n",
    "        xform = self.track[-1] + self.transform()\n",
    "        self.track.append(xform)\n",
    "        return xform\n",
    "\n",
    "class NoDrift(MotionModel):\n",
    "    def transform(self):\n",
    "        return AffineTransform()\n",
    "    \n",
    "class HorizontalDrift(MotionModel):\n",
    "    def transform(self):\n",
    "        return AffineTransform(translation = [1,0])\n",
    "\n",
    "class VerticalDrift(MotionModel):\n",
    "    def transform(self):\n",
    "        return AffineTransform(translation = [0,1]) \n",
    "\n",
    "class RandomWalk(MotionModel):\n",
    "    def transform(self):\n",
    "        T = np.random.choice(np.arange(-3,3,.1), size=2)\n",
    "        return AffineTransform(translation=T)\n"
   ]
  },
  {
   "cell_type": "code",
   "execution_count": 6,
   "metadata": {
    "collapsed": true
   },
   "outputs": [],
   "source": [
    "def simulate_capture(image, drift, noise):\n",
    "\n",
    "    walklen = 16\n",
    "    transforms = [next(drift) for i in range(walklen)]\n",
    "    imagelist = [transform.warp(image, T) for T in transforms]    \n",
    "    imagelist = [noise(image) for image in imagelist]    \n",
    "    return imagelist\n",
    "\n",
    "def motion_correct(imagelist):\n",
    "    mu_image = np.zeros_like(pad)\n",
    "    frame = np.zeros_like(pad)\n",
    "    window = HanningWindow()\n",
    "    \n",
    "    for epoch in range(3):\n",
    "        mu_image = sum(imagelist)/len(imagelist)\n",
    "        mu_Fourier = np.conjugate(fft2(mu_image))\n",
    "        for i, frame in enumerate(imagelist):      \n",
    "            Sxm = fft2(window*frame)*mu_Fourier\n",
    "            Rxm = fftshift(np.absolute(ifft2(Sxm/np.absolute(Sxm))))\n",
    "            argmax = np.unravel_index(Rxm.argmax(), Rxm.shape)\n",
    "            argmax = (argmax[1]-N/2+.5, argmax[0]-N/2+.5)\n",
    "            stabilized = transform.warp(frame, AffineTransform(translation=argmax))\n",
    "            imagelist[i] = stabilized\n",
    "            yield (frame, (epoch, i), mu_image, Sxm, Rxm, stabilized)"
   ]
  },
  {
   "cell_type": "code",
   "execution_count": 8,
   "metadata": {
    "collapsed": false,
    "deletable": true,
    "editable": true
   },
   "outputs": [
    {
     "ename": "SyntaxError",
     "evalue": "invalid syntax (<ipython-input-8-f460d8c101b6>, line 33)",
     "output_type": "error",
     "traceback": [
      "\u001b[0;36m  File \u001b[0;32m\"<ipython-input-8-f460d8c101b6>\"\u001b[0;36m, line \u001b[0;32m33\u001b[0m\n\u001b[0;31m    def animate((capture, epoch, mu_image, Sxm, Rxm, stabilized)):\u001b[0m\n\u001b[0m                ^\u001b[0m\n\u001b[0;31mSyntaxError\u001b[0m\u001b[0;31m:\u001b[0m invalid syntax\n"
     ]
    }
   ],
   "source": [
    "fig, axes = plt.subplots(ncols=3, nrows=2, figsize=(16,12))\n",
    "ax = axes.flatten()\n",
    "  \n",
    "image_artist = [a.imshow(pad, vmin=0, vmax=1) for a in ax]\n",
    "image_artist[2] = ax[2].imshow(pad, vmin=0, vmax=30)\n",
    "image_artist[3] = ax[3].imshow(pad, vmin=-10, vmax=0, zorder=0)\n",
    "P=32\n",
    "for a in ax:\n",
    "    a.axis([P,N-P,P,N-P])\n",
    "ax[3].axis([N/2-N/10, N/2+N/10, N/2-N/10, N/2+N/10])\n",
    "\n",
    "for a, title in zip(ax, ['Captured image $I_x$', 'Mean image $I_\\mu$', \n",
    "                         'Cross Spectrum Magnitude $|S_{x\\mu}|$', \n",
    "                         'Cross Correlation $R_{x\\mu}$',\n",
    "                         'Stabilized Image', '']):\n",
    "    a.set_title(title)\n",
    "\n",
    "text1 = ax[1].text(0, N, \"Epoch 0\", color='cyan', fontsize=32)\n",
    "track, = ax[3].plot([], [], color='cyan', lw=1, alpha=.5, zorder=2)\n",
    "truth, = ax[3].plot(\n",
    "    [],\n",
    "    # [pad.shape[0]/2 - x[0] -.5 for x in model.walk], [pad.shape[1]/2 - x[1] -.5 for x in model.walk], \n",
    "    color='red', zorder=1, lw=10, alpha=.5)\n",
    "\n",
    "vmark = ax[3].axvline(N/2, color='yellow', linestyle=':', alpha=1)\n",
    "hmark = ax[3].axhline(N/2, color='yellow', linestyle=':', alpha=1)\n",
    "\n",
    "walk_x = []\n",
    "walk_y = []\n",
    "\n",
    "#def animate(data):\n",
    "#    capture, epoch, mu_image, Sxm, Rxm, stabilized = data\n",
    "def animate((capture, epoch, mu_image, Sxm, Rxm, stabilized)):\n",
    "    for artist, img in zip(image_artist, \n",
    "            [capture, mu_image, fftshift(np.log(np.abs(Sxm))), np.log(Rxm), stabilized, pad]):\n",
    "        artist.set_array(img)\n",
    "    argmax = np.unravel_index(Rxm.argmax(), Rxm.shape)\n",
    "    hmark.set_ydata([argmax[0]])\n",
    "    vmark.set_xdata([argmax[1]])\n",
    "    walk_x.append(argmax[0])\n",
    "    walk_y.append(argmax[1])\n",
    "    track.set_data(walk_y, walk_x)\n",
    "    text1.set_text('Epoch {}.{}'.format(*epoch))\n",
    "    return image_artist\n",
    "    \n",
    "imagelist = simulate_capture(SyntheticBlobs(), RandomWalk(), WhiteNoise(0.0001))\n",
    "stabilized = motion_correct(imagelist)\n",
    "anim = animation.FuncAnimation(fig, animate, frames=stabilized, blit=True)\n",
    "anim"
   ]
  },
  {
   "cell_type": "code",
   "execution_count": null,
   "metadata": {
    "collapsed": true
   },
   "outputs": [],
   "source": []
  }
 ],
 "metadata": {
  "kernelspec": {
   "display_name": "Python 3",
   "language": "python",
   "name": "python3"
  },
  "language_info": {
   "codemirror_mode": {
    "name": "ipython",
    "version": 3
   },
   "file_extension": ".py",
   "mimetype": "text/x-python",
   "name": "python",
   "nbconvert_exporter": "python",
   "pygments_lexer": "ipython3",
   "version": "3.6.0"
  }
 },
 "nbformat": 4,
 "nbformat_minor": 2
}
